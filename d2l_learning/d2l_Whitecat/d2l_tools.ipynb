{
 "cells": [
  {
   "cell_type": "code",
   "execution_count": 1,
   "id": "7190b9aa",
   "metadata": {},
   "outputs": [],
   "source": [
    "%matplotlib inline\n",
    "import numpy as np\n",
    "from matplotlib_inline import backend_inline\n",
    "import matplotlib.pyplot as plt\n",
    "import torch\n",
    "import time\n",
    "from torch.utils import data"
   ]
  },
  {
   "cell_type": "code",
   "execution_count": 2,
   "id": "ce18e480",
   "metadata": {},
   "outputs": [],
   "source": [
    "# 使用svg格式在jupyter中显示绘图\n",
    "def use_svg_display():\n",
    "    backend_inline.set_matplotlib_formats('svg')"
   ]
  },
  {
   "cell_type": "code",
   "execution_count": 3,
   "id": "a6d08c4f",
   "metadata": {},
   "outputs": [],
   "source": [
    "# 设置图表大小\n",
    "def set_figsize(figsize=(3.5,2.5)):\n",
    "    use_svg_display()\n",
    "    plt.rcParams['figure.figsize'] = figsize"
   ]
  },
  {
   "cell_type": "code",
   "execution_count": 4,
   "id": "2aca4e08",
   "metadata": {},
   "outputs": [],
   "source": [
    "# 生成图表的轴属性 \n",
    "def set_axes(axes, xlabel, ylabel, xlim, ylim, xscale, yscale, legend):\n",
    "    axes.set_xlabel(xlabel)\n",
    "    axes.set_ylabel(ylabel)\n",
    "    axes.set_xscale(xscale)\n",
    "    axes.set_yscale(yscale)\n",
    "    axes.set_xlim(xlim)\n",
    "    axes.set_ylim(ylim)\n",
    "    if legend:\n",
    "        axes.legend(legend)\n",
    "    axes.grid()"
   ]
  },
  {
   "cell_type": "code",
   "execution_count": 5,
   "id": "64f40057",
   "metadata": {},
   "outputs": [],
   "source": [
    "# 绘图\n",
    "\"\"\"\n",
    "可针对一个x，多个y同时画图\n",
    "使用格式:plot(x,[y1,y2],[xlabel=,ylabel=,legend=[,……,],xlim=,ylim=,……])\n",
    "\"\"\"\n",
    "def plot(X,Y=None, xlabel=None, ylabel=None, legend=None, xlim=None, ylim=None,\n",
    "        xscale='linear', yscale='linear', \n",
    "        fmts=('-','m--','g-.','r:'),figsize=(3.5,2.5),axes=None):\n",
    "    if legend is None:\n",
    "        legend=[]\n",
    "    \n",
    "    set_figsize(figsize)\n",
    "    axes = axes if axes else plt.gca()\n",
    "    # 若X有一个轴，输出True\n",
    "    def has_one_axis(X):\n",
    "        return (hasattr(X,\"ndim\") and X.ndim == 1 or isinstance(X,list)\n",
    "               and not hasattr(X[0],\"__len__\"))\n",
    "    \n",
    "    if has_one_axis(X):\n",
    "        X = [X]\n",
    "    if Y is None:\n",
    "        X,Y = [[]] * len(X), X\n",
    "    elif has_one_axis(Y):\n",
    "        Y = [Y]\n",
    "    if len(X) != len(Y):\n",
    "        X = X * len(Y)\n",
    "    axes.cla()\n",
    "    for x, y, fmt in zip(X, Y, fmts):\n",
    "        if len(x):\n",
    "            axes.plot(x, y, fmt)\n",
    "        else:\n",
    "            axes.plot(y, fmt)\n",
    "    set_axes(axes,xlabel,ylabel,xlim,ylim,xscale,yscale,legend)"
   ]
  },
  {
   "cell_type": "code",
   "execution_count": 6,
   "id": "2c59fc83",
   "metadata": {},
   "outputs": [],
   "source": [
    "# 定义计时器 \n",
    "class Timer:\n",
    "    # 记录多次运行时间\n",
    "    def __init__(self):\n",
    "        self.times=[]\n",
    "        self.start()\n",
    "    \n",
    "    def start(self):\n",
    "        # 启动计时器\n",
    "        self.tik = time.time()\n",
    "    \n",
    "    def stop(self):\n",
    "        # 停止计时器并将时间记录在列表\n",
    "        self.times.append(time.time()-self.tik)\n",
    "        return self.times[-1]\n",
    "    \n",
    "    def avg(self):\n",
    "        # 返回平均时间\n",
    "        return sum(self.times) / len(self.times)\n",
    "    \n",
    "    def sum(self):\n",
    "        # 返回时间总和 \n",
    "        return sum(self.times)\n",
    "    \n",
    "    def cumsum(self):\n",
    "        # 返回累计时间\n",
    "        return np.array(self.times).cumsum().tolist()"
   ]
  },
  {
   "cell_type": "code",
   "execution_count": 7,
   "id": "42a39790",
   "metadata": {},
   "outputs": [],
   "source": [
    "# 生成具有噪声的数据集 (x~(0,1), y增加的噪声e~(0,0.01))\n",
    "def synthetic_data(w,b,num_examples):\n",
    "    x = torch.normal(0,1,(num_examples,len(w)))\n",
    "    y = torch.matmul(x,w) + b\n",
    "    # 增加噪声\n",
    "    y += torch.normal(0,0.01,y.shape)\n",
    "    return x, y.reshape((-1,1))"
   ]
  },
  {
   "cell_type": "code",
   "execution_count": 8,
   "id": "ce616e6d",
   "metadata": {},
   "outputs": [],
   "source": [
    " # 线性回归模型\n",
    "def linreg(x,w,b):\n",
    "    return torch.matmul(x,w)+b"
   ]
  },
  {
   "cell_type": "code",
   "execution_count": 9,
   "id": "c585117b",
   "metadata": {},
   "outputs": [],
   "source": [
    "# 均方误差\n",
    "def squared_loss(y_hat,y):\n",
    "    return (y_hat - y.reshape(y_hat.shape))**2 / 2"
   ]
  },
  {
   "cell_type": "code",
   "execution_count": 10,
   "id": "48c65399",
   "metadata": {},
   "outputs": [],
   "source": [
    "# 小批量随机梯度下降\n",
    "def sgd(params, lr, batch_size):\n",
    "    with torch.no_grad():\n",
    "        for param in params:\n",
    "            param -= lr * param.grad / batch_size # 本地修改，无需return\n",
    "            param.grad.zero_()"
   ]
  },
  {
   "cell_type": "code",
   "execution_count": 11,
   "id": "a6254181",
   "metadata": {},
   "outputs": [],
   "source": [
    "# Huber_loss\n",
    "def Huber(y_hat,y,delta):\n",
    "    loss = torch.where(abs(y_hat - y) > delta, abs(y_hat - y) - delta / 2, (y_hat - y)**2 / (2 * delta)) \n",
    "    return torch.sum(loss)"
   ]
  },
  {
   "cell_type": "code",
   "execution_count": 12,
   "id": "2059397e",
   "metadata": {},
   "outputs": [],
   "source": [
    "# 读取数据集 (is_train ——> 是否打乱顺序)\n",
    "\"\"\"\n",
    "传入（x,y）和batch_size,封装成Pytorch数据迭代器\n",
    "\"\"\"\n",
    "def load_array(data_arrays, batch_size, is_train=True):\n",
    "    # 构造Pytorch数据迭代器\n",
    "    dataset = data.TensorDataset(*data_arrays)\n",
    "    return data.DataLoader(dataset, batch_size, shuffle=is_train)"
   ]
  },
  {
   "cell_type": "code",
   "execution_count": null,
   "id": "e63d6fdd",
   "metadata": {},
   "outputs": [],
   "source": []
  }
 ],
 "metadata": {
  "kernelspec": {
   "display_name": "pytorch",
   "language": "python",
   "name": "pytorch"
  },
  "language_info": {
   "codemirror_mode": {
    "name": "ipython",
    "version": 3
   },
   "file_extension": ".py",
   "mimetype": "text/x-python",
   "name": "python",
   "nbconvert_exporter": "python",
   "pygments_lexer": "ipython3",
   "version": "3.8.16"
  }
 },
 "nbformat": 4,
 "nbformat_minor": 5
}
