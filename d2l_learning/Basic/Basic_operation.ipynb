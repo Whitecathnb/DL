{
 "cells": [
  {
   "cell_type": "code",
   "execution_count": 1,
   "id": "29e6bda1",
   "metadata": {},
   "outputs": [],
   "source": [
    "import torch"
   ]
  },
  {
   "cell_type": "markdown",
   "id": "6a59fb86",
   "metadata": {},
   "source": [
    "张量表示由一个数值组成的数组（可能多维）"
   ]
  },
  {
   "cell_type": "code",
   "execution_count": 2,
   "id": "b7487721",
   "metadata": {},
   "outputs": [
    {
     "data": {
      "text/plain": [
       "(tensor([ 0,  1,  2,  3,  4,  5,  6,  7,  8,  9, 10, 11]),\n",
       " tensor([ 1,  4,  7, 10]))"
      ]
     },
     "execution_count": 2,
     "metadata": {},
     "output_type": "execute_result"
    }
   ],
   "source": [
    "x = torch.arange(12)\n",
    "# arange若给出步长，则必须指定start\n",
    "y = torch.arange(1,12,3)\n",
    "x,y"
   ]
  },
  {
   "cell_type": "markdown",
   "id": "de276d58",
   "metadata": {},
   "source": [
    "`张量shape属性访问张量的形状和张量中元素的总数"
   ]
  },
  {
   "cell_type": "code",
   "execution_count": 3,
   "id": "4805ffe7",
   "metadata": {},
   "outputs": [
    {
     "data": {
      "text/plain": [
       "torch.Size([12])"
      ]
     },
     "execution_count": 3,
     "metadata": {},
     "output_type": "execute_result"
    }
   ],
   "source": [
    "x.shape"
   ]
  },
  {
   "cell_type": "code",
   "execution_count": 4,
   "id": "99526b97",
   "metadata": {},
   "outputs": [
    {
     "data": {
      "text/plain": [
       "12"
      ]
     },
     "execution_count": 4,
     "metadata": {},
     "output_type": "execute_result"
    }
   ],
   "source": [
    "x.numel()"
   ]
  },
  {
   "cell_type": "markdown",
   "id": "eabeb0d4",
   "metadata": {},
   "source": [
    "仅改变张量形状,reshape函数"
   ]
  },
  {
   "cell_type": "code",
   "execution_count": 5,
   "id": "c9a04cfa",
   "metadata": {},
   "outputs": [
    {
     "data": {
      "text/plain": [
       "(tensor([[ 0,  1,  2,  3],\n",
       "         [ 4,  5,  6,  7],\n",
       "         [ 8,  9, 10, 11]]),\n",
       " 12)"
      ]
     },
     "execution_count": 5,
     "metadata": {},
     "output_type": "execute_result"
    }
   ],
   "source": [
    "X = x.reshape(3,4)\n",
    "X,X.numel()"
   ]
  },
  {
   "cell_type": "markdown",
   "id": "e0e85c96",
   "metadata": {},
   "source": [
    "全0、全1、其他常量或者特定分布中随机采样的数字"
   ]
  },
  {
   "cell_type": "code",
   "execution_count": 6,
   "id": "7c2ed49f",
   "metadata": {},
   "outputs": [
    {
     "data": {
      "text/plain": [
       "tensor([[[0., 0., 0., 0., 0.],\n",
       "         [0., 0., 0., 0., 0.],\n",
       "         [0., 0., 0., 0., 0.]],\n",
       "\n",
       "        [[0., 0., 0., 0., 0.],\n",
       "         [0., 0., 0., 0., 0.],\n",
       "         [0., 0., 0., 0., 0.]]])"
      ]
     },
     "execution_count": 6,
     "metadata": {},
     "output_type": "execute_result"
    }
   ],
   "source": [
    "torch.zeros((2,3,5))"
   ]
  },
  {
   "cell_type": "code",
   "execution_count": 7,
   "id": "480a97a1",
   "metadata": {},
   "outputs": [
    {
     "data": {
      "text/plain": [
       "tensor([[[1., 1., 1., 1., 1.],\n",
       "         [1., 1., 1., 1., 1.],\n",
       "         [1., 1., 1., 1., 1.]],\n",
       "\n",
       "        [[1., 1., 1., 1., 1.],\n",
       "         [1., 1., 1., 1., 1.],\n",
       "         [1., 1., 1., 1., 1.]]])"
      ]
     },
     "execution_count": 7,
     "metadata": {},
     "output_type": "execute_result"
    }
   ],
   "source": [
    "torch.ones((2,3,5))"
   ]
  },
  {
   "cell_type": "code",
   "execution_count": 8,
   "id": "19ed7be9",
   "metadata": {},
   "outputs": [
    {
     "data": {
      "text/plain": [
       "tensor([[[ 0.9768,  0.1412, -1.1905, -1.0712,  0.7013],\n",
       "         [-1.3224,  0.5638,  1.5141, -1.7450, -0.1546],\n",
       "         [-2.6319,  0.7899,  0.6327,  0.9940, -1.1337]],\n",
       "\n",
       "        [[-0.4985,  0.7603,  0.4055,  1.4975,  0.5728],\n",
       "         [-0.5418,  1.6844,  0.7573,  0.4713,  0.6117],\n",
       "         [ 0.9738,  0.6243, -0.6625,  0.2649,  0.7867]]])"
      ]
     },
     "execution_count": 8,
     "metadata": {},
     "output_type": "execute_result"
    }
   ],
   "source": [
    "torch.randn(2,3,5)"
   ]
  },
  {
   "cell_type": "markdown",
   "id": "169fc5cb",
   "metadata": {},
   "source": [
    "Python列表——> 张量"
   ]
  },
  {
   "cell_type": "code",
   "execution_count": 9,
   "id": "493bc6da",
   "metadata": {},
   "outputs": [
    {
     "data": {
      "text/plain": [
       "tensor([[1, 3, 5, 7, 9],\n",
       "        [2, 4, 6, 8, 0]])"
      ]
     },
     "execution_count": 9,
     "metadata": {},
     "output_type": "execute_result"
    }
   ],
   "source": [
    "x = [[1,3,5,7,9],[2,4,6,8,0]]\n",
    "torch.tensor(x)"
   ]
  },
  {
   "cell_type": "markdown",
   "id": "6f5dd399",
   "metadata": {},
   "source": [
    "常见标准运算符都升级为按元素运算"
   ]
  },
  {
   "cell_type": "code",
   "execution_count": 10,
   "id": "9b748133",
   "metadata": {},
   "outputs": [
    {
     "data": {
      "text/plain": [
       "(tensor([2., 5., 7., 9.]),\n",
       " tensor([-2.,  1.,  3.,  5.]),\n",
       " tensor([ 0.,  6., 10., 14.]),\n",
       " tensor([0.0000, 1.5000, 2.5000, 3.5000]),\n",
       " tensor([ 0.,  9., 25., 49.]))"
      ]
     },
     "execution_count": 10,
     "metadata": {},
     "output_type": "execute_result"
    }
   ],
   "source": [
    "x = torch.tensor([0,3,5,7],dtype = torch.float32)\n",
    "y = torch.tensor([2,2,2,2])\n",
    "x+y, x-y, x*y, x/y, x**y"
   ]
  },
  {
   "cell_type": "markdown",
   "id": "36e059c1",
   "metadata": {},
   "source": [
    "按元素方式应用更多计算"
   ]
  },
  {
   "cell_type": "code",
   "execution_count": 11,
   "id": "7ed016b6",
   "metadata": {},
   "outputs": [
    {
     "data": {
      "text/plain": [
       "tensor([1.0000e+00, 2.0086e+01, 1.4841e+02, 1.0966e+03])"
      ]
     },
     "execution_count": 11,
     "metadata": {},
     "output_type": "execute_result"
    }
   ],
   "source": [
    "torch.exp(x)"
   ]
  },
  {
   "cell_type": "markdown",
   "id": "8df7ab31",
   "metadata": {},
   "source": [
    "张量连结"
   ]
  },
  {
   "cell_type": "code",
   "execution_count": 12,
   "id": "16d7e602",
   "metadata": {},
   "outputs": [
    {
     "data": {
      "text/plain": [
       "(tensor([[ 0.0000,  1.0000,  2.0000,  3.0000],\n",
       "         [ 4.0000,  5.0000,  6.0000,  7.0000],\n",
       "         [ 8.0000,  9.0000, 10.0000, 11.0000],\n",
       "         [ 2.0000,  1.4000,  0.8000,  3.1000],\n",
       "         [ 4.0000,  3.6000,  9.2000, 10.0000],\n",
       "         [12.0000, 11.0000,  8.8000,  2.0000]]),\n",
       " tensor([[ 0.0000,  1.0000,  2.0000,  3.0000,  2.0000,  1.4000,  0.8000,  3.1000],\n",
       "         [ 4.0000,  5.0000,  6.0000,  7.0000,  4.0000,  3.6000,  9.2000, 10.0000],\n",
       "         [ 8.0000,  9.0000, 10.0000, 11.0000, 12.0000, 11.0000,  8.8000,  2.0000]]))"
      ]
     },
     "execution_count": 12,
     "metadata": {},
     "output_type": "execute_result"
    }
   ],
   "source": [
    "X = torch.arange(12, dtype=torch.float32).reshape((3,4))\n",
    "Y = torch.tensor([[2,1.4,0.8,3.1],[4,3.6,9.2,10],[12,11,8.8,2]])\n",
    "# dim = 0 ——> 行增加 / dim = 1 ——> 列增加\n",
    "torch.cat((X,Y),dim=0),torch.cat((X,Y),dim=1)"
   ]
  },
  {
   "cell_type": "markdown",
   "id": "1eb5596a",
   "metadata": {},
   "source": [
    "逻辑运算"
   ]
  },
  {
   "cell_type": "code",
   "execution_count": 13,
   "id": "787f1e06",
   "metadata": {},
   "outputs": [
    {
     "data": {
      "text/plain": [
       "(tensor([[False, False, False, False],\n",
       "         [ True, False, False, False],\n",
       "         [False, False, False, False]]),\n",
       " tensor([[False, False,  True, False],\n",
       "         [False,  True, False, False],\n",
       "         [False, False,  True,  True]]),\n",
       " tensor([[ True,  True, False,  True],\n",
       "         [False, False,  True,  True],\n",
       "         [ True,  True, False, False]]))"
      ]
     },
     "execution_count": 13,
     "metadata": {},
     "output_type": "execute_result"
    }
   ],
   "source": [
    "X == Y, X > Y, X < Y"
   ]
  },
  {
   "cell_type": "markdown",
   "id": "2faf704d",
   "metadata": {},
   "source": [
    "对张量所有元素求和"
   ]
  },
  {
   "cell_type": "code",
   "execution_count": 14,
   "id": "80ab6926",
   "metadata": {},
   "outputs": [
    {
     "data": {
      "text/plain": [
       "tensor(66.)"
      ]
     },
     "execution_count": 14,
     "metadata": {},
     "output_type": "execute_result"
    }
   ],
   "source": [
    "X.sum()"
   ]
  },
  {
   "cell_type": "markdown",
   "id": "9ba3c022",
   "metadata": {},
   "source": [
    "广播机制——处理形状不同，但维度相同的张量"
   ]
  },
  {
   "cell_type": "code",
   "execution_count": 15,
   "id": "f56b2b64",
   "metadata": {},
   "outputs": [
    {
     "data": {
      "text/plain": [
       "(tensor([[0],\n",
       "         [1],\n",
       "         [2]]),\n",
       " tensor([[0, 1, 2, 3]]))"
      ]
     },
     "execution_count": 15,
     "metadata": {},
     "output_type": "execute_result"
    }
   ],
   "source": [
    "a = torch.arange(3).reshape((3,1))\n",
    "b = torch.arange(4).reshape((1,4))\n",
    "a,b"
   ]
  },
  {
   "cell_type": "code",
   "execution_count": 16,
   "id": "904c104e",
   "metadata": {},
   "outputs": [
    {
     "data": {
      "text/plain": [
       "tensor([[0, 1, 2, 3],\n",
       "        [1, 2, 3, 4],\n",
       "        [2, 3, 4, 5]])"
      ]
     },
     "execution_count": 16,
     "metadata": {},
     "output_type": "execute_result"
    }
   ],
   "source": [
    "a + b"
   ]
  },
  {
   "cell_type": "code",
   "execution_count": 17,
   "id": "c3fc8814",
   "metadata": {},
   "outputs": [
    {
     "data": {
      "text/plain": [
       "(tensor([[[ 0],\n",
       "          [ 1],\n",
       "          [ 2],\n",
       "          [ 3]],\n",
       " \n",
       "         [[ 4],\n",
       "          [ 5],\n",
       "          [ 6],\n",
       "          [ 7]],\n",
       " \n",
       "         [[ 8],\n",
       "          [ 9],\n",
       "          [10],\n",
       "          [11]]]),\n",
       " tensor([[[0, 1, 2, 3]]]))"
      ]
     },
     "execution_count": 17,
     "metadata": {},
     "output_type": "execute_result"
    }
   ],
   "source": [
    "a = torch.arange(12).reshape((3,4,1))\n",
    "b = torch.arange(4).reshape((1,1,4))\n",
    "a,b"
   ]
  },
  {
   "cell_type": "code",
   "execution_count": 18,
   "id": "d6f30f13",
   "metadata": {},
   "outputs": [
    {
     "data": {
      "text/plain": [
       "tensor([[[ 0,  1,  2,  3],\n",
       "         [ 1,  2,  3,  4],\n",
       "         [ 2,  3,  4,  5],\n",
       "         [ 3,  4,  5,  6]],\n",
       "\n",
       "        [[ 4,  5,  6,  7],\n",
       "         [ 5,  6,  7,  8],\n",
       "         [ 6,  7,  8,  9],\n",
       "         [ 7,  8,  9, 10]],\n",
       "\n",
       "        [[ 8,  9, 10, 11],\n",
       "         [ 9, 10, 11, 12],\n",
       "         [10, 11, 12, 13],\n",
       "         [11, 12, 13, 14]]])"
      ]
     },
     "execution_count": 18,
     "metadata": {},
     "output_type": "execute_result"
    }
   ],
   "source": [
    "a + b"
   ]
  },
  {
   "cell_type": "markdown",
   "id": "fe782160",
   "metadata": {},
   "source": [
    "张量的切片"
   ]
  },
  {
   "cell_type": "code",
   "execution_count": 19,
   "id": "646dffa1",
   "metadata": {},
   "outputs": [
    {
     "data": {
      "text/plain": [
       "(tensor([ 8.,  9., 10., 11.]),\n",
       " tensor([[0., 1., 2., 3.],\n",
       "         [4., 5., 6., 7.]]))"
      ]
     },
     "execution_count": 19,
     "metadata": {},
     "output_type": "execute_result"
    }
   ],
   "source": [
    "X[-1],X[:2]"
   ]
  },
  {
   "cell_type": "markdown",
   "id": "238595ce",
   "metadata": {},
   "source": [
    "指定索引写入元素"
   ]
  },
  {
   "cell_type": "code",
   "execution_count": 20,
   "id": "6f5112d4",
   "metadata": {},
   "outputs": [
    {
     "data": {
      "text/plain": [
       "tensor([[ 0.,  1.,  2.,  3.],\n",
       "        [ 4.,  5.,  9.,  7.],\n",
       "        [ 8.,  9., 10., 11.]])"
      ]
     },
     "execution_count": 20,
     "metadata": {},
     "output_type": "execute_result"
    }
   ],
   "source": [
    "X[1,2] = 9\n",
    "X"
   ]
  },
  {
   "cell_type": "code",
   "execution_count": 21,
   "id": "c6f5b264",
   "metadata": {},
   "outputs": [
    {
     "data": {
      "text/plain": [
       "tensor([[12., 12., 12., 12.],\n",
       "        [12., 12., 12., 12.],\n",
       "        [ 8.,  9., 10., 11.]])"
      ]
     },
     "execution_count": 21,
     "metadata": {},
     "output_type": "execute_result"
    }
   ],
   "source": [
    "X[0:2,:] = 12\n",
    "X"
   ]
  },
  {
   "cell_type": "markdown",
   "id": "34d40470",
   "metadata": {},
   "source": [
    "内存问题"
   ]
  },
  {
   "cell_type": "code",
   "execution_count": 22,
   "id": "0639c310",
   "metadata": {},
   "outputs": [
    {
     "data": {
      "text/plain": [
       "False"
      ]
     },
     "execution_count": 22,
     "metadata": {},
     "output_type": "execute_result"
    }
   ],
   "source": [
    "before = id(Y)\n",
    "Y = Y + X # 分配新内存\n",
    "id(Y) == before"
   ]
  },
  {
   "cell_type": "code",
   "execution_count": 23,
   "id": "10381602",
   "metadata": {},
   "outputs": [
    {
     "data": {
      "text/plain": [
       "True"
      ]
     },
     "execution_count": 23,
     "metadata": {},
     "output_type": "execute_result"
    }
   ],
   "source": [
    "before = id(X)\n",
    "X += Y # 原地操作\n",
    "id(X) == before"
   ]
  },
  {
   "cell_type": "code",
   "execution_count": 24,
   "id": "356b8c46",
   "metadata": {},
   "outputs": [
    {
     "name": "stdout",
     "output_type": "stream",
     "text": [
      "id(Z): 2041903210880\n",
      "id(Z): 2041903210880\n"
     ]
    }
   ],
   "source": [
    "Z = torch.zeros_like(Y)\n",
    "print('id(Z):', id(Z))\n",
    "Z[:] = X + Y\n",
    "print('id(Z):', id(Z))"
   ]
  },
  {
   "cell_type": "markdown",
   "id": "2a36766b",
   "metadata": {},
   "source": [
    "Numpy 与 torch张量 互换"
   ]
  },
  {
   "cell_type": "code",
   "execution_count": 25,
   "id": "88ca0756",
   "metadata": {},
   "outputs": [
    {
     "data": {
      "text/plain": [
       "(numpy.ndarray, torch.Tensor)"
      ]
     },
     "execution_count": 25,
     "metadata": {},
     "output_type": "execute_result"
    }
   ],
   "source": [
    "A = X.numpy()\n",
    "B = torch.tensor(A)\n",
    "type(A),type(B)"
   ]
  },
  {
   "cell_type": "markdown",
   "id": "6a7a18fd",
   "metadata": {},
   "source": [
    "将大小为1的张量转换为python标量"
   ]
  },
  {
   "cell_type": "code",
   "execution_count": 26,
   "id": "483e703d",
   "metadata": {},
   "outputs": [
    {
     "data": {
      "text/plain": [
       "(tensor([3.5000]), 3.5, 3.5, 3)"
      ]
     },
     "execution_count": 26,
     "metadata": {},
     "output_type": "execute_result"
    }
   ],
   "source": [
    "a = torch.tensor([3.5])\n",
    "a,a.item(),float(a),int(a)"
   ]
  },
  {
   "cell_type": "code",
   "execution_count": null,
   "id": "8b1cae4a",
   "metadata": {},
   "outputs": [],
   "source": []
  }
 ],
 "metadata": {
  "kernelspec": {
   "display_name": "pytorch",
   "language": "python",
   "name": "pytorch"
  },
  "language_info": {
   "codemirror_mode": {
    "name": "ipython",
    "version": 3
   },
   "file_extension": ".py",
   "mimetype": "text/x-python",
   "name": "python",
   "nbconvert_exporter": "python",
   "pygments_lexer": "ipython3",
   "version": "3.8.16"
  }
 },
 "nbformat": 4,
 "nbformat_minor": 5
}
