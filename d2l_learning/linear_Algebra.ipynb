{
 "cells": [
  {
   "cell_type": "markdown",
   "id": "a9099d56",
   "metadata": {},
   "source": [
    "**线性代数**"
   ]
  },
  {
   "cell_type": "markdown",
   "id": "5d4724a4",
   "metadata": {},
   "source": [
    "*标量*"
   ]
  },
  {
   "cell_type": "code",
   "execution_count": 1,
   "id": "6d7aef30",
   "metadata": {},
   "outputs": [
    {
     "data": {
      "text/plain": [
       "(tensor([5.]), tensor([-1.]), tensor([6.]), tensor([0.6667]), tensor([8.]))"
      ]
     },
     "execution_count": 1,
     "metadata": {},
     "output_type": "execute_result"
    }
   ],
   "source": [
    "import torch\n",
    "\n",
    "x = torch.tensor([2.0])\n",
    "y = torch.tensor([3.0])\n",
    "\n",
    "x+y, x-y, x*y, x/y, x**y"
   ]
  },
  {
   "cell_type": "markdown",
   "id": "de513e56",
   "metadata": {},
   "source": [
    "*向量 ——> 可看成标量值组成的列表*"
   ]
  },
  {
   "cell_type": "code",
   "execution_count": 2,
   "id": "8f405f6f",
   "metadata": {},
   "outputs": [
    {
     "data": {
      "text/plain": [
       "tensor([ 0,  1,  2,  3,  4,  5,  6,  7,  8,  9, 10, 11])"
      ]
     },
     "execution_count": 2,
     "metadata": {},
     "output_type": "execute_result"
    }
   ],
   "source": [
    "x = torch.arange(12)\n",
    "x"
   ]
  },
  {
   "cell_type": "code",
   "execution_count": 3,
   "id": "15b63466",
   "metadata": {},
   "outputs": [
    {
     "data": {
      "text/plain": [
       "tensor(3)"
      ]
     },
     "execution_count": 3,
     "metadata": {},
     "output_type": "execute_result"
    }
   ],
   "source": [
    "# 张量索引访问\n",
    "x[3]"
   ]
  },
  {
   "cell_type": "code",
   "execution_count": 4,
   "id": "1fe583f7",
   "metadata": {},
   "outputs": [
    {
     "data": {
      "text/plain": [
       "12"
      ]
     },
     "execution_count": 4,
     "metadata": {},
     "output_type": "execute_result"
    }
   ],
   "source": [
    "# 访问张量长度\n",
    "len(x)"
   ]
  },
  {
   "cell_type": "code",
   "execution_count": 5,
   "id": "761a7610",
   "metadata": {},
   "outputs": [
    {
     "data": {
      "text/plain": [
       "torch.Size([12])"
      ]
     },
     "execution_count": 5,
     "metadata": {},
     "output_type": "execute_result"
    }
   ],
   "source": [
    "# 向量形状（仅有一个轴）\n",
    "x.shape"
   ]
  },
  {
   "cell_type": "markdown",
   "id": "a74f4a29",
   "metadata": {},
   "source": [
    "***矩阵***"
   ]
  },
  {
   "cell_type": "code",
   "execution_count": 6,
   "id": "86ea07e5",
   "metadata": {},
   "outputs": [
    {
     "data": {
      "text/plain": [
       "tensor([[ 0,  1,  2,  3,  4],\n",
       "        [ 5,  6,  7,  8,  9],\n",
       "        [10, 11, 12, 13, 14],\n",
       "        [15, 16, 17, 18, 19]])"
      ]
     },
     "execution_count": 6,
     "metadata": {},
     "output_type": "execute_result"
    }
   ],
   "source": [
    "# 指定分量m ,n，创建m * n的矩阵\n",
    "A = torch.arange(20).reshape((4,5))\n",
    "A"
   ]
  },
  {
   "cell_type": "code",
   "execution_count": 7,
   "id": "a8147013",
   "metadata": {},
   "outputs": [
    {
     "data": {
      "text/plain": [
       "tensor([[ 0,  5, 10, 15],\n",
       "        [ 1,  6, 11, 16],\n",
       "        [ 2,  7, 12, 17],\n",
       "        [ 3,  8, 13, 18],\n",
       "        [ 4,  9, 14, 19]])"
      ]
     },
     "execution_count": 7,
     "metadata": {},
     "output_type": "execute_result"
    }
   ],
   "source": [
    "# 矩阵转置\n",
    "A.T"
   ]
  },
  {
   "cell_type": "code",
   "execution_count": 8,
   "id": "000a289b",
   "metadata": {},
   "outputs": [
    {
     "name": "stdout",
     "output_type": "stream",
     "text": [
      "tensor([[1, 2, 3],\n",
      "        [2, 0, 4],\n",
      "        [3, 4, 5]])\n"
     ]
    },
    {
     "data": {
      "text/plain": [
       "tensor([[True, True, True],\n",
       "        [True, True, True],\n",
       "        [True, True, True]])"
      ]
     },
     "execution_count": 8,
     "metadata": {},
     "output_type": "execute_result"
    }
   ],
   "source": [
    "# 对称矩阵\n",
    "B = torch.tensor([[1,2,3],[2,0,4],[3,4,5]])\n",
    "\n",
    "print(B)\n",
    "\n",
    "B == B.T"
   ]
  },
  {
   "cell_type": "code",
   "execution_count": 9,
   "id": "4e561487",
   "metadata": {},
   "outputs": [
    {
     "data": {
      "text/plain": [
       "tensor([[[ 0,  1,  2,  3],\n",
       "         [ 4,  5,  6,  7],\n",
       "         [ 8,  9, 10, 11]],\n",
       "\n",
       "        [[12, 13, 14, 15],\n",
       "         [16, 17, 18, 19],\n",
       "         [20, 21, 22, 23]]])"
      ]
     },
     "execution_count": 9,
     "metadata": {},
     "output_type": "execute_result"
    }
   ],
   "source": [
    "# 创建更多的轴\n",
    "X = torch.arange(24).reshape((2,3,4))\n",
    "X"
   ]
  },
  {
   "cell_type": "markdown",
   "id": "d7ffb943",
   "metadata": {},
   "source": [
    "***张量运算***"
   ]
  },
  {
   "cell_type": "markdown",
   "id": "1e1c3400",
   "metadata": {},
   "source": [
    "*加法 ---- 形状一致*"
   ]
  },
  {
   "cell_type": "code",
   "execution_count": 10,
   "id": "e9512355",
   "metadata": {},
   "outputs": [
    {
     "data": {
      "text/plain": [
       "(tensor([[ 0.,  1.,  2.,  3.,  4.],\n",
       "         [ 5.,  6.,  7.,  8.,  9.],\n",
       "         [10., 11., 12., 13., 14.],\n",
       "         [15., 16., 17., 18., 19.]]),\n",
       " tensor([[ 0.,  2.,  4.,  6.,  8.],\n",
       "         [10., 12., 14., 16., 18.],\n",
       "         [20., 22., 24., 26., 28.],\n",
       "         [30., 32., 34., 36., 38.]]))"
      ]
     },
     "execution_count": 10,
     "metadata": {},
     "output_type": "execute_result"
    }
   ],
   "source": [
    "A = torch.arange(20, dtype=torch.float32).reshape((4,5))\n",
    "B = A.clone() # 与B=A 区分，此处新开了存储空间，并把A的值克隆\n",
    "A, A+B"
   ]
  },
  {
   "cell_type": "markdown",
   "id": "c4c7c785",
   "metadata": {},
   "source": [
    "*乘法 --- 按元素乘（哈达吗积）--- 形状一致*"
   ]
  },
  {
   "cell_type": "code",
   "execution_count": 11,
   "id": "aad6a26f",
   "metadata": {},
   "outputs": [
    {
     "data": {
      "text/plain": [
       "tensor([[  0.,   1.,   4.,   9.,  16.],\n",
       "        [ 25.,  36.,  49.,  64.,  81.],\n",
       "        [100., 121., 144., 169., 196.],\n",
       "        [225., 256., 289., 324., 361.]])"
      ]
     },
     "execution_count": 11,
     "metadata": {},
     "output_type": "execute_result"
    }
   ],
   "source": [
    "A * B"
   ]
  },
  {
   "cell_type": "markdown",
   "id": "ae9ba30b",
   "metadata": {},
   "source": [
    "*标量与张量相乘*"
   ]
  },
  {
   "cell_type": "code",
   "execution_count": 12,
   "id": "8c59f832",
   "metadata": {},
   "outputs": [
    {
     "data": {
      "text/plain": [
       "(tensor([[[ 2,  3,  4,  5],\n",
       "          [ 6,  7,  8,  9],\n",
       "          [10, 11, 12, 13]],\n",
       " \n",
       "         [[14, 15, 16, 17],\n",
       "          [18, 19, 20, 21],\n",
       "          [22, 23, 24, 25]]]),\n",
       " tensor([[[ 0,  2,  4,  6],\n",
       "          [ 8, 10, 12, 14],\n",
       "          [16, 18, 20, 22]],\n",
       " \n",
       "         [[24, 26, 28, 30],\n",
       "          [32, 34, 36, 38],\n",
       "          [40, 42, 44, 46]]]),\n",
       " torch.Size([2, 3, 4]))"
      ]
     },
     "execution_count": 12,
     "metadata": {},
     "output_type": "execute_result"
    }
   ],
   "source": [
    "a = 2\n",
    "X = torch.arange(24).reshape((2,3,4))\n",
    "a+X, a*X, (a*X).shape"
   ]
  },
  {
   "cell_type": "markdown",
   "id": "9210888b",
   "metadata": {},
   "source": [
    "*计算张量元素的和*"
   ]
  },
  {
   "cell_type": "code",
   "execution_count": 13,
   "id": "ed1819ef",
   "metadata": {},
   "outputs": [
    {
     "data": {
      "text/plain": [
       "(tensor([0., 1., 2., 3., 4.]), tensor(10.))"
      ]
     },
     "execution_count": 13,
     "metadata": {},
     "output_type": "execute_result"
    }
   ],
   "source": [
    "x = torch.arange(5,dtype=torch.float32)\n",
    "x, x.sum()"
   ]
  },
  {
   "cell_type": "code",
   "execution_count": 14,
   "id": "34197d4a",
   "metadata": {},
   "outputs": [
    {
     "data": {
      "text/plain": [
       "(torch.Size([2, 3, 4]), tensor(276))"
      ]
     },
     "execution_count": 14,
     "metadata": {},
     "output_type": "execute_result"
    }
   ],
   "source": [
    "# 表示任意形状张量的元素\n",
    "X.shape, X.sum()"
   ]
  },
  {
   "cell_type": "markdown",
   "id": "32988b52",
   "metadata": {},
   "source": [
    "*指定张量沿着某一个轴通过求和降维（具体参加Sum_by_specific_axis.py）*"
   ]
  },
  {
   "cell_type": "code",
   "execution_count": 15,
   "id": "4104c00a",
   "metadata": {},
   "outputs": [
    {
     "data": {
      "text/plain": [
       "tensor([[ 0.,  1.,  2.,  3.,  4.],\n",
       "        [ 5.,  6.,  7.,  8.,  9.],\n",
       "        [10., 11., 12., 13., 14.],\n",
       "        [15., 16., 17., 18., 19.]])"
      ]
     },
     "execution_count": 15,
     "metadata": {},
     "output_type": "execute_result"
    }
   ],
   "source": [
    "A"
   ]
  },
  {
   "cell_type": "code",
   "execution_count": 16,
   "id": "103b6f70",
   "metadata": {},
   "outputs": [
    {
     "data": {
      "text/plain": [
       "(tensor([30., 34., 38., 42., 46.]), torch.Size([5]))"
      ]
     },
     "execution_count": 16,
     "metadata": {},
     "output_type": "execute_result"
    }
   ],
   "source": [
    "\"\"\"\n",
    "假设:\n",
    "C.shape ---- (2,6,7,……,n)\n",
    "axis = 0 ---->（6,7,……n）\n",
    "axis = 1 ----> (2,7,……,n)\n",
    "……\n",
    "\n",
    "\"\"\"\n",
    "A_sum_axis0 = A.sum(axis = 0)\n",
    "A_sum_axis0, A_sum_axis0.shape"
   ]
  },
  {
   "cell_type": "code",
   "execution_count": 17,
   "id": "ab2095a9",
   "metadata": {},
   "outputs": [
    {
     "data": {
      "text/plain": [
       "(tensor([10., 35., 60., 85.]), torch.Size([4]))"
      ]
     },
     "execution_count": 17,
     "metadata": {},
     "output_type": "execute_result"
    }
   ],
   "source": [
    "A_sum_axis1 = A.sum(axis = 1)\n",
    "A_sum_axis1, A_sum_axis1.shape"
   ]
  },
  {
   "cell_type": "code",
   "execution_count": 18,
   "id": "dde20752",
   "metadata": {},
   "outputs": [
    {
     "data": {
      "text/plain": [
       "tensor(190.)"
      ]
     },
     "execution_count": 18,
     "metadata": {},
     "output_type": "execute_result"
    }
   ],
   "source": [
    "A.sum(axis=[0,1])"
   ]
  },
  {
   "cell_type": "markdown",
   "id": "252c4ded",
   "metadata": {},
   "source": [
    "*平均值*"
   ]
  },
  {
   "cell_type": "code",
   "execution_count": 19,
   "id": "068c231d",
   "metadata": {},
   "outputs": [
    {
     "data": {
      "text/plain": [
       "(tensor(9.5000), tensor(9.5000))"
      ]
     },
     "execution_count": 19,
     "metadata": {},
     "output_type": "execute_result"
    }
   ],
   "source": [
    "A.mean(), A.sum()/A.numel()"
   ]
  },
  {
   "cell_type": "code",
   "execution_count": 20,
   "id": "5c9e99e5",
   "metadata": {},
   "outputs": [
    {
     "data": {
      "text/plain": [
       "(tensor([ 7.5000,  8.5000,  9.5000, 10.5000, 11.5000]),\n",
       " tensor([ 7.5000,  8.5000,  9.5000, 10.5000, 11.5000]))"
      ]
     },
     "execution_count": 20,
     "metadata": {},
     "output_type": "execute_result"
    }
   ],
   "source": [
    "A.mean(axis=0),A.sum(axis=0)/A.shape[0]"
   ]
  },
  {
   "cell_type": "markdown",
   "id": "cd9d5a10",
   "metadata": {},
   "source": [
    "*计算总值或均值时保持轴数不变*"
   ]
  },
  {
   "cell_type": "code",
   "execution_count": 21,
   "id": "11f0de5b",
   "metadata": {},
   "outputs": [
    {
     "data": {
      "text/plain": [
       "tensor([[10.],\n",
       "        [35.],\n",
       "        [60.],\n",
       "        [85.]])"
      ]
     },
     "execution_count": 21,
     "metadata": {},
     "output_type": "execute_result"
    }
   ],
   "source": [
    "Sum_A = A.sum(axis=1, keepdims=True)\n",
    "Sum_A"
   ]
  },
  {
   "cell_type": "markdown",
   "id": "0449987f",
   "metadata": {},
   "source": [
    "*广播机制*"
   ]
  },
  {
   "cell_type": "code",
   "execution_count": 22,
   "id": "e001f6d3",
   "metadata": {},
   "outputs": [
    {
     "data": {
      "text/plain": [
       "tensor([[0.0000, 0.1000, 0.2000, 0.3000, 0.4000],\n",
       "        [0.1429, 0.1714, 0.2000, 0.2286, 0.2571],\n",
       "        [0.1667, 0.1833, 0.2000, 0.2167, 0.2333],\n",
       "        [0.1765, 0.1882, 0.2000, 0.2118, 0.2235]])"
      ]
     },
     "execution_count": 22,
     "metadata": {},
     "output_type": "execute_result"
    }
   ],
   "source": [
    "A/Sum_A"
   ]
  },
  {
   "cell_type": "markdown",
   "id": "b1701d2a",
   "metadata": {},
   "source": [
    "*按某个轴计算元素A的累积和*"
   ]
  },
  {
   "cell_type": "code",
   "execution_count": 23,
   "id": "c419f291",
   "metadata": {},
   "outputs": [
    {
     "data": {
      "text/plain": [
       "(tensor([[ 0.,  1.,  2.,  3.,  4.],\n",
       "         [ 5.,  7.,  9., 11., 13.],\n",
       "         [15., 18., 21., 24., 27.],\n",
       "         [30., 34., 38., 42., 46.]]),\n",
       " tensor([[ 0.,  1.,  3.,  6., 10.],\n",
       "         [ 5., 11., 18., 26., 35.],\n",
       "         [10., 21., 33., 46., 60.],\n",
       "         [15., 31., 48., 66., 85.]]))"
      ]
     },
     "execution_count": 23,
     "metadata": {},
     "output_type": "execute_result"
    }
   ],
   "source": [
    "A.cumsum(axis=0),A.cumsum(axis=1)"
   ]
  },
  {
   "cell_type": "markdown",
   "id": "4d49b0b6",
   "metadata": {},
   "source": [
    "*点积 --- 只能向量元素*"
   ]
  },
  {
   "cell_type": "code",
   "execution_count": 24,
   "id": "8608a86d",
   "metadata": {},
   "outputs": [
    {
     "data": {
      "text/plain": [
       "(tensor([0., 1., 2., 3., 4.]), torch.Size([5]))"
      ]
     },
     "execution_count": 24,
     "metadata": {},
     "output_type": "execute_result"
    }
   ],
   "source": [
    "x, x.shape"
   ]
  },
  {
   "cell_type": "code",
   "execution_count": 25,
   "id": "3700a8c3",
   "metadata": {},
   "outputs": [
    {
     "data": {
      "text/plain": [
       "(tensor([ 0.1828,  0.6683, -0.4201, -0.8004, -0.7032]), torch.Size([5]))"
      ]
     },
     "execution_count": 25,
     "metadata": {},
     "output_type": "execute_result"
    }
   ],
   "source": [
    "y = torch.randn(5)\n",
    "y, y.shape"
   ]
  },
  {
   "cell_type": "code",
   "execution_count": 26,
   "id": "63999930",
   "metadata": {},
   "outputs": [
    {
     "data": {
      "text/plain": [
       "(tensor(-5.3859), tensor(-5.3859))"
      ]
     },
     "execution_count": 26,
     "metadata": {},
     "output_type": "execute_result"
    }
   ],
   "source": [
    "torch.dot(x,y),torch.sum(x*y)"
   ]
  },
  {
   "cell_type": "markdown",
   "id": "eab6f09f",
   "metadata": {},
   "source": [
    "*矩阵向量积Ax是一个长度为m的列向量，其第i个元素是点积ai.TX*"
   ]
  },
  {
   "cell_type": "code",
   "execution_count": 27,
   "id": "e412bbd4",
   "metadata": {},
   "outputs": [
    {
     "data": {
      "text/plain": [
       "(torch.Size([4, 5]), torch.Size([5]), tensor([ 30.,  80., 130., 180.]))"
      ]
     },
     "execution_count": 27,
     "metadata": {},
     "output_type": "execute_result"
    }
   ],
   "source": [
    "A.shape,x.shape,torch.mv(A,x)"
   ]
  },
  {
   "cell_type": "markdown",
   "id": "f27173a7",
   "metadata": {},
   "source": [
    "*矩阵乘法AB看作是简单地执行m次矩阵-向量积，并将结果拼接在一起，形成一个n×m矩阵*"
   ]
  },
  {
   "cell_type": "code",
   "execution_count": 28,
   "id": "4ea777c2",
   "metadata": {},
   "outputs": [
    {
     "data": {
      "text/plain": [
       "(torch.Size([4, 5]), torch.Size([5, 3]))"
      ]
     },
     "execution_count": 28,
     "metadata": {},
     "output_type": "execute_result"
    }
   ],
   "source": [
    "B = torch.ones(5,3)\n",
    "A.shape,B.shape"
   ]
  },
  {
   "cell_type": "code",
   "execution_count": 29,
   "id": "3be32d89",
   "metadata": {},
   "outputs": [
    {
     "data": {
      "text/plain": [
       "tensor([[10., 10., 10.],\n",
       "        [35., 35., 35.],\n",
       "        [60., 60., 60.],\n",
       "        [85., 85., 85.]])"
      ]
     },
     "execution_count": 29,
     "metadata": {},
     "output_type": "execute_result"
    }
   ],
   "source": [
    "torch.mm(A,B)"
   ]
  },
  {
   "cell_type": "markdown",
   "id": "b04606ca",
   "metadata": {},
   "source": [
    "*L2范数 -- 向量元素平方和的平方根*"
   ]
  },
  {
   "cell_type": "code",
   "execution_count": 30,
   "id": "bb0617fe",
   "metadata": {},
   "outputs": [
    {
     "data": {
      "text/plain": [
       "tensor(5.)"
      ]
     },
     "execution_count": 30,
     "metadata": {},
     "output_type": "execute_result"
    }
   ],
   "source": [
    "u = torch.tensor([3.0,-4.0])\n",
    "torch.norm(u)"
   ]
  },
  {
   "cell_type": "markdown",
   "id": "3d5a67f0",
   "metadata": {},
   "source": [
    "*L1范数 -- 绝对值的和*"
   ]
  },
  {
   "cell_type": "code",
   "execution_count": 31,
   "id": "cb530b0a",
   "metadata": {},
   "outputs": [
    {
     "data": {
      "text/plain": [
       "tensor(7.)"
      ]
     },
     "execution_count": 31,
     "metadata": {},
     "output_type": "execute_result"
    }
   ],
   "source": [
    "torch.abs(u).sum()"
   ]
  },
  {
   "cell_type": "markdown",
   "id": "9282de72",
   "metadata": {},
   "source": [
    "*矩阵 Frobenius范数 -- 矩阵元素平方和的平方根*"
   ]
  },
  {
   "cell_type": "code",
   "execution_count": 32,
   "id": "4e92a3c1",
   "metadata": {},
   "outputs": [
    {
     "data": {
      "text/plain": [
       "tensor(3.4641)"
      ]
     },
     "execution_count": 32,
     "metadata": {},
     "output_type": "execute_result"
    }
   ],
   "source": [
    "torch.norm(torch.ones(4,3))"
   ]
  },
  {
   "cell_type": "code",
   "execution_count": null,
   "id": "3de0592f",
   "metadata": {},
   "outputs": [],
   "source": []
  }
 ],
 "metadata": {
  "kernelspec": {
   "display_name": "pytorch",
   "language": "python",
   "name": "pytorch"
  },
  "language_info": {
   "codemirror_mode": {
    "name": "ipython",
    "version": 3
   },
   "file_extension": ".py",
   "mimetype": "text/x-python",
   "name": "python",
   "nbconvert_exporter": "python",
   "pygments_lexer": "ipython3",
   "version": "3.8.16"
  }
 },
 "nbformat": 4,
 "nbformat_minor": 5
}
